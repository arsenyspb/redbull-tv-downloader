{
 "cells": [
  {
   "cell_type": "markdown",
   "metadata": {},
   "source": [
    "# RedBull.TV Film Downloader\n",
    "\n",
    "## Overview\n",
    "RedBull.TV runs Adobe Media Server. It presents its content as HLS, which is file container format optimized for Apple devices. The container supports H.264/AAC-encoded video/audio and is based on MPEG-2 transport stream (TS). All video delivered to iOS (including AIR for IOS) must use this format.\n",
    "\n",
    "I really wanted to watch \"Two Fast\", https://www.redbull.tv/film/AP-1PYF79CXW1W11/two-fast . The film is mate of multiple TS chunks, each 3-second long.\n",
    "\n",
    "\n",
    "## Getting playlist.m3u8\n",
    "\n",
    "Using Chrome or alternative browser, navigate to the film's landing page, select desired resolution (i.e. 1920x1080). Enable Developer Console. Reload the page, sort the \"Network\" list by filename, and find the needed file:\n",
    "\n",
    "<img src=\"finding_playlist.png\">\n"
   ]
  },
  {
   "cell_type": "markdown",
   "metadata": {},
   "source": [
    "## Downloading with PyCurl"
   ]
  },
  {
   "cell_type": "code",
   "execution_count": 321,
   "metadata": {
    "collapsed": false
   },
   "outputs": [],
   "source": [
    "import os\n",
    "import re\n",
    "import pycurl"
   ]
  },
  {
   "cell_type": "code",
   "execution_count": 322,
   "metadata": {
    "collapsed": false
   },
   "outputs": [],
   "source": [
    "filename = 'playlist.m3u8'\n",
    "pattern = '..ts|[0-9]..ts|[0-9][0-9]..ts'"
   ]
  },
  {
   "cell_type": "markdown",
   "metadata": {},
   "source": [
    "That pattern is up to 3-digits in the filename. If the film is longer, you may need to add another set.\n",
    "Reference is https://docs.python.org/2/library/re.html\n",
    "If you have a more elegant solution, let me know."
   ]
  },
  {
   "cell_type": "code",
   "execution_count": 323,
   "metadata": {
    "collapsed": false
   },
   "outputs": [],
   "source": [
    "with open(filename, 'r') as f:\n",
    "    lines = f.readlines()\n"
   ]
  },
  {
   "cell_type": "code",
   "execution_count": 326,
   "metadata": {
    "collapsed": false
   },
   "outputs": [],
   "source": [
    "#for tests, try with last lines ones only \n",
    "#for line in lines[-6:]:\n",
    "for line in lines:\n",
    "    match = re.search(pattern, line)\n",
    "    if match:\n",
    "        #newfile.append(match.group(0))\n",
    "        #cleanurl.append(line.rstrip(\"\\n\"))\n",
    "        ts = open(match.group(0), \"wb\")\n",
    "        curl = pycurl.Curl()\n",
    "        curl.setopt(pycurl.URL, str(line.rstrip(\"\\n\")))\n",
    "        curl.setopt(pycurl.WRITEDATA, ts)\n",
    "        curl.perform()\n",
    "        curl.close()\n",
    "        ts.close()        "
   ]
  },
  {
   "cell_type": "markdown",
   "metadata": {},
   "source": [
    "## What to do with Bunch of .ts files "
   ]
  },
  {
   "cell_type": "markdown",
   "metadata": {},
   "source": [
    "Concatenate them, and use ffmpeg if you prefer to encode them again: https://superuser.com/questions/692990/use-ffmpeg-copy-codec-to-combine-ts-files-into-a-single-mp4 , i.e. for Mac OS X it's:\n",
    "\n",
    "    cat $(ls *.ts | sort -n) > movie.ts\n",
    "\n"
   ]
  },
  {
   "cell_type": "code",
   "execution_count": null,
   "metadata": {
    "collapsed": true
   },
   "outputs": [],
   "source": []
  }
 ],
 "metadata": {
  "kernelspec": {
   "display_name": "Python 3",
   "language": "python",
   "name": "python3"
  },
  "language_info": {
   "codemirror_mode": {
    "name": "ipython",
    "version": 3
   },
   "file_extension": ".py",
   "mimetype": "text/x-python",
   "name": "python",
   "nbconvert_exporter": "python",
   "pygments_lexer": "ipython3",
   "version": "3.5.2"
  }
 },
 "nbformat": 4,
 "nbformat_minor": 2
}
